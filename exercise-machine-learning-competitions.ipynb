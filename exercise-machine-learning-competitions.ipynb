{
 "cells": [
  {
   "cell_type": "markdown",
   "id": "cab43ec4",
   "metadata": {
    "papermill": {
     "duration": 0.015637,
     "end_time": "2022-02-14T20:47:13.094390",
     "exception": false,
     "start_time": "2022-02-14T20:47:13.078753",
     "status": "completed"
    },
    "tags": []
   },
   "source": [
    "**[Machine Learning Home Page](https://www.kaggle.com/learn/intro-to-machine-learning)**\n",
    "\n",
    "---\n"
   ]
  },
  {
   "cell_type": "markdown",
   "id": "670318bc",
   "metadata": {
    "papermill": {
     "duration": 0.013798,
     "end_time": "2022-02-14T20:47:13.122949",
     "exception": false,
     "start_time": "2022-02-14T20:47:13.109151",
     "status": "completed"
    },
    "tags": []
   },
   "source": [
    "# Introduction\n",
    "Machine learning competitions are a great way to improve your data science skills and measure your progress. \n",
    "\n",
    "In this exercise, you will create and submit predictions for a Kaggle competition. You can then improve your model (e.g. by adding features) to improve and see how you stack up to others taking this micro-course.\n",
    "\n",
    "The steps in this notebook are:\n",
    "1. Build a Random Forest model with all of your data (**X** and **y**)\n",
    "2. Read in the \"test\" data, which doesn't include values for the target.  Predict home values in the test data with your Random Forest model.\n",
    "3. Submit those predictions to the competition and see your score.\n",
    "4. Optionally, come back to see if you can improve your model by adding features or changing your model. Then you can resubmit to see how that stacks up on the competition leaderboard."
   ]
  },
  {
   "cell_type": "markdown",
   "id": "a4e7df90",
   "metadata": {
    "papermill": {
     "duration": 0.014002,
     "end_time": "2022-02-14T20:47:13.151624",
     "exception": false,
     "start_time": "2022-02-14T20:47:13.137622",
     "status": "completed"
    },
    "tags": []
   },
   "source": [
    "## Recap\n",
    "Here's the code you've written so far. Start by running it again."
   ]
  },
  {
   "cell_type": "code",
   "execution_count": 1,
   "id": "ff2ecc5a",
   "metadata": {
    "execution": {
     "iopub.execute_input": "2022-02-14T20:47:13.186842Z",
     "iopub.status.busy": "2022-02-14T20:47:13.185480Z",
     "iopub.status.idle": "2022-02-14T20:47:15.018378Z",
     "shell.execute_reply": "2022-02-14T20:47:15.018905Z",
     "shell.execute_reply.started": "2022-02-14T20:46:34.215563Z"
    },
    "papermill": {
     "duration": 1.852804,
     "end_time": "2022-02-14T20:47:15.019286",
     "exception": false,
     "start_time": "2022-02-14T20:47:13.166482",
     "status": "completed"
    },
    "tags": []
   },
   "outputs": [
    {
     "name": "stdout",
     "output_type": "stream",
     "text": [
      "Validation MAE when not specifying max_leaf_nodes: 29,653\n",
      "Validation MAE for best value of max_leaf_nodes: 27,283\n",
      "Validation MAE for Random Forest Model: 21,702\n"
     ]
    }
   ],
   "source": [
    "# Code you have previously used to load data\n",
    "import pandas as pd\n",
    "from sklearn.ensemble import RandomForestRegressor\n",
    "from sklearn.metrics import mean_absolute_error\n",
    "from sklearn.model_selection import train_test_split\n",
    "from sklearn.tree import DecisionTreeRegressor\n",
    "from learntools.core import *\n",
    "\n",
    "\n",
    "\n",
    "# Path of the file to read. We changed the directory structure to simplify submitting to a competition\n",
    "# iowa_file_path = '../input/home-data-for-ml-course/train.csv'\n",
    "iowa_file_path = '../input/train.csv'\n",
    "\n",
    "home_data = pd.read_csv(iowa_file_path)\n",
    "# Create target object and call it y\n",
    "y = home_data.SalePrice\n",
    "# Create X\n",
    "features = ['LotArea', 'YearBuilt', '1stFlrSF', '2ndFlrSF', 'FullBath', 'BedroomAbvGr', 'TotRmsAbvGrd']\n",
    "X = home_data[features]\n",
    "\n",
    "# Split into validation and training data\n",
    "train_X, val_X, train_y, val_y = train_test_split(X, y, random_state=1)\n",
    "\n",
    "# Specify Model\n",
    "iowa_model = DecisionTreeRegressor(random_state=1)\n",
    "# Fit Model\n",
    "iowa_model.fit(train_X, train_y)\n",
    "\n",
    "# Make validation predictions and calculate mean absolute error\n",
    "val_predictions = iowa_model.predict(val_X)\n",
    "val_mae = mean_absolute_error(val_predictions, val_y)\n",
    "print(\"Validation MAE when not specifying max_leaf_nodes: {:,.0f}\".format(val_mae))\n",
    "\n",
    "# Using best value for max_leaf_nodes\n",
    "iowa_model = DecisionTreeRegressor(max_leaf_nodes=100, random_state=1)\n",
    "iowa_model.fit(train_X, train_y)\n",
    "val_predictions = iowa_model.predict(val_X)\n",
    "val_mae = mean_absolute_error(val_predictions, val_y)\n",
    "print(\"Validation MAE for best value of max_leaf_nodes: {:,.0f}\".format(val_mae))\n",
    "\n",
    "# Define the model. Set random_state to 1\n",
    "rf_model = RandomForestRegressor(n_estimators=72, random_state=1)\n",
    "rf_model.fit(train_X, train_y)\n",
    "rf_val_predictions = rf_model.predict(val_X)\n",
    "rf_val_mae = mean_absolute_error(rf_val_predictions, val_y)\n",
    "\n",
    "print(\"Validation MAE for Random Forest Model: {:,.0f}\".format(rf_val_mae))\n"
   ]
  },
  {
   "cell_type": "code",
   "execution_count": null,
   "id": "d7f3e6b2",
   "metadata": {
    "papermill": {
     "duration": 0.017697,
     "end_time": "2022-02-14T20:47:15.053209",
     "exception": false,
     "start_time": "2022-02-14T20:47:15.035512",
     "status": "completed"
    },
    "tags": []
   },
   "outputs": [],
   "source": []
  },
  {
   "cell_type": "markdown",
   "id": "a4483584",
   "metadata": {
    "papermill": {
     "duration": 0.015214,
     "end_time": "2022-02-14T20:47:15.083910",
     "exception": false,
     "start_time": "2022-02-14T20:47:15.068696",
     "status": "completed"
    },
    "tags": []
   },
   "source": [
    "# Creating a Model For the Competition\n",
    "\n",
    "Build a Random Forest model and train it on all of **X** and **y**.  "
   ]
  },
  {
   "cell_type": "code",
   "execution_count": 2,
   "id": "8cce74f4",
   "metadata": {
    "execution": {
     "iopub.execute_input": "2022-02-14T20:47:15.121472Z",
     "iopub.status.busy": "2022-02-14T20:47:15.120637Z",
     "iopub.status.idle": "2022-02-14T20:47:15.558129Z",
     "shell.execute_reply": "2022-02-14T20:47:15.557439Z",
     "shell.execute_reply.started": "2022-02-14T20:46:34.620007Z"
    },
    "papermill": {
     "duration": 0.459172,
     "end_time": "2022-02-14T20:47:15.558282",
     "exception": false,
     "start_time": "2022-02-14T20:47:15.099110",
     "status": "completed"
    },
    "tags": []
   },
   "outputs": [
    {
     "data": {
      "text/plain": [
       "RandomForestRegressor(n_estimators=72, random_state=1)"
      ]
     },
     "execution_count": 2,
     "metadata": {},
     "output_type": "execute_result"
    }
   ],
   "source": [
    "# To improve accuracy, create a new Random Forest model which you will train on all training data\n",
    "rf_model_on_full_data = RandomForestRegressor(n_estimators=72, random_state=1)\n",
    "\n",
    "# fit rf_model_on_full_data on all data from the training data\n",
    "rf_model_on_full_data.fit(X, y)"
   ]
  },
  {
   "cell_type": "code",
   "execution_count": null,
   "id": "f441a14a",
   "metadata": {
    "papermill": {
     "duration": 0.015934,
     "end_time": "2022-02-14T20:47:15.589832",
     "exception": false,
     "start_time": "2022-02-14T20:47:15.573898",
     "status": "completed"
    },
    "tags": []
   },
   "outputs": [],
   "source": []
  },
  {
   "cell_type": "markdown",
   "id": "cf018deb",
   "metadata": {
    "papermill": {
     "duration": 0.015251,
     "end_time": "2022-02-14T20:47:15.620833",
     "exception": false,
     "start_time": "2022-02-14T20:47:15.605582",
     "status": "completed"
    },
    "tags": []
   },
   "source": [
    "# Make Predictions\n",
    "Read the file of \"test\" data. And apply your model to make predictions"
   ]
  },
  {
   "cell_type": "code",
   "execution_count": 3,
   "id": "eaeed604",
   "metadata": {
    "execution": {
     "iopub.execute_input": "2022-02-14T20:47:15.658882Z",
     "iopub.status.busy": "2022-02-14T20:47:15.658188Z",
     "iopub.status.idle": "2022-02-14T20:47:15.726867Z",
     "shell.execute_reply": "2022-02-14T20:47:15.727398Z",
     "shell.execute_reply.started": "2022-02-14T20:46:35.053312Z"
    },
    "papermill": {
     "duration": 0.091263,
     "end_time": "2022-02-14T20:47:15.727619",
     "exception": false,
     "start_time": "2022-02-14T20:47:15.636356",
     "status": "completed"
    },
    "tags": []
   },
   "outputs": [],
   "source": [
    "# path to file you will use for predictions\n",
    "# test_data_path = '../input/home-data-for-ml-course/test.csv'\n",
    "test_data_path = '../input/test.csv'\n",
    "\n",
    "# read test data file using pandas\n",
    "test_data = pd.read_csv(test_data_path)\n",
    "\n",
    "# create test_X which comes from test_data but includes only the columns you used for prediction.\n",
    "# The list of columns is stored in a variable called features\n",
    "test_X = test_data[features]\n",
    "\n",
    "# make predictions which we will submit. \n",
    "test_preds = rf_model_on_full_data.predict(test_X)\n",
    "\n",
    "# The lines below shows how to save predictions in format used for competition scoring\n",
    "# Just uncomment them.\n",
    "\n",
    "output = pd.DataFrame({'Id': test_data.Id,\n",
    "                       'SalePrice': test_preds})\n",
    "output.to_csv('submission.csv', index=False)"
   ]
  },
  {
   "cell_type": "code",
   "execution_count": null,
   "id": "1a13112e",
   "metadata": {
    "papermill": {
     "duration": 0.015368,
     "end_time": "2022-02-14T20:47:15.759267",
     "exception": false,
     "start_time": "2022-02-14T20:47:15.743899",
     "status": "completed"
    },
    "tags": []
   },
   "outputs": [],
   "source": []
  },
  {
   "cell_type": "markdown",
   "id": "6005566c",
   "metadata": {
    "papermill": {
     "duration": 0.015432,
     "end_time": "2022-02-14T20:47:15.791038",
     "exception": false,
     "start_time": "2022-02-14T20:47:15.775606",
     "status": "completed"
    },
    "tags": []
   },
   "source": [
    "# Test Your Work\n",
    "After filling in the code above:\n",
    "1. Click the **Commit** button. \n",
    "2. After your code has finished running, click the \"Open Version\" button.  This brings you into the \"viewer mode\" for your notebook. You will need to scroll down to get back to these instructions.\n",
    "3. Click **Output** button on the left of your screen. \n",
    "\n",
    "This will bring you to a part of the screen that looks like this: \n",
    "![](https://imgur.com/a/QRHL7Uv)\n",
    "\n",
    "Select the button to submit and you will see your score. You have now successfully submitted to the competition.\n",
    "\n",
    "4. If you want to keep working to improve your model, select the edit button. Then you can change your model and repeat the process to submit again. There's a lot of room to improve your model, and you will climb up the leaderboard as you work.\n",
    "\n",
    "# Continuing Your Progress\n",
    "There are many ways to improve your model, and **experimenting is a great way to learn at this point.**\n",
    "\n",
    "The best way to improve your model is to add features.  Look at the list of columns and think about what might affect home prices.  Some features will cause errors because of issues like missing values or non-numeric data types. \n",
    "\n",
    "The [Intermediate Machine Learning](https://www.kaggle.com/learn/intermediate-machine-learning) micro-course will teach you how to handle these types of features. You will also learn to use **xgboost**, a technique giving even better accuracy than Random Forest.\n",
    "\n"
   ]
  },
  {
   "cell_type": "code",
   "execution_count": 4,
   "id": "592e6038",
   "metadata": {
    "execution": {
     "iopub.execute_input": "2022-02-14T20:47:15.831710Z",
     "iopub.status.busy": "2022-02-14T20:47:15.830264Z",
     "iopub.status.idle": "2022-02-14T20:47:40.598940Z",
     "shell.execute_reply": "2022-02-14T20:47:40.599502Z"
    },
    "papermill": {
     "duration": 24.793223,
     "end_time": "2022-02-14T20:47:40.599743",
     "exception": false,
     "start_time": "2022-02-14T20:47:15.806520",
     "status": "completed"
    },
    "tags": []
   },
   "outputs": [],
   "source": [
    "# Helper function for getting MAE for Random Forest with n_estimators\n",
    "def get_rf_mae(n_estimators, train_X, val_X, train_y, val_y):\n",
    "    rf_model = RandomForestRegressor(n_estimators=n_estimators, random_state=1)\n",
    "    rf_model.fit(train_X, train_y)\n",
    "    rf_val_predictions = rf_model.predict(val_X)\n",
    "    return mean_absolute_error(rf_val_predictions, val_y)\n",
    "    \n",
    "# Tunning n_estimators hyperparameter\n",
    "scores = {n:get_rf_mae(n, train_X, val_X, train_y, val_y) for n in range(10,100)}\n",
    "best_n_estimators = min(scores, key=scores.get)\n",
    "\n",
    "# Fitting a model with complete data and predicting values for test data. \n",
    "rf_model_on_full_data = RandomForestRegressor(n_estimators=best_n_estimators, random_state=1)\n",
    "rf_model_on_full_data.fit(X, y) \n",
    "test_preds = rf_model_on_full_data.predict(test_X)\n",
    "\n",
    "# Save predictions in format used for competition scoring\n",
    "output = pd.DataFrame({'Id': test_data.Id,\n",
    "                       'SalePrice': test_preds})\n",
    "output.to_csv('submission.csv', index=False)"
   ]
  },
  {
   "cell_type": "code",
   "execution_count": null,
   "id": "39324213",
   "metadata": {
    "papermill": {
     "duration": 0.016081,
     "end_time": "2022-02-14T20:47:40.632541",
     "exception": false,
     "start_time": "2022-02-14T20:47:40.616460",
     "status": "completed"
    },
    "tags": []
   },
   "outputs": [],
   "source": []
  },
  {
   "cell_type": "code",
   "execution_count": null,
   "id": "1b826b31",
   "metadata": {
    "papermill": {
     "duration": 0.017257,
     "end_time": "2022-02-14T20:47:40.665826",
     "exception": false,
     "start_time": "2022-02-14T20:47:40.648569",
     "status": "completed"
    },
    "tags": []
   },
   "outputs": [],
   "source": []
  },
  {
   "cell_type": "markdown",
   "id": "2e50e7d6",
   "metadata": {
    "papermill": {
     "duration": 0.015816,
     "end_time": "2022-02-14T20:47:40.697499",
     "exception": false,
     "start_time": "2022-02-14T20:47:40.681683",
     "status": "completed"
    },
    "tags": []
   },
   "source": [
    "\n",
    "# Other Micro-Courses\n",
    "The **[Pandas Micro-Course](https://kaggle.com/Learn/Pandas)** will give you the data manipulation skills to quickly go from conceptual idea to implementation in your data science projects. \n",
    "\n",
    "You are also ready for the **[Deep Learning](https://kaggle.com/Learn/Deep-Learning)** micro-course, where you will build models with better-than-human level performance at computer vision tasks."
   ]
  },
  {
   "cell_type": "markdown",
   "id": "68e5115e",
   "metadata": {
    "papermill": {
     "duration": 0.015497,
     "end_time": "2022-02-14T20:47:40.729040",
     "exception": false,
     "start_time": "2022-02-14T20:47:40.713543",
     "status": "completed"
    },
    "tags": []
   },
   "source": [
    "---\n",
    "**[Machine Learning Home Page](https://www.kaggle.com/learn/intro-to-machine-learning)**\n",
    "\n",
    "\n",
    "\n",
    "\n",
    "\n",
    "*Have questions or comments? Visit the [Learn Discussion forum](https://www.kaggle.com/learn-forum) to chat with other Learners.*"
   ]
  }
 ],
 "metadata": {
  "kernelspec": {
   "display_name": "Python 3",
   "language": "python",
   "name": "python3"
  },
  "language_info": {
   "codemirror_mode": {
    "name": "ipython",
    "version": 3
   },
   "file_extension": ".py",
   "mimetype": "text/x-python",
   "name": "python",
   "nbconvert_exporter": "python",
   "pygments_lexer": "ipython3",
   "version": "3.7.12"
  },
  "papermill": {
   "default_parameters": {},
   "duration": 39.830594,
   "end_time": "2022-02-14T20:47:41.456188",
   "environment_variables": {},
   "exception": null,
   "input_path": "__notebook__.ipynb",
   "output_path": "__notebook__.ipynb",
   "parameters": {},
   "start_time": "2022-02-14T20:47:01.625594",
   "version": "2.3.3"
  }
 },
 "nbformat": 4,
 "nbformat_minor": 5
}
