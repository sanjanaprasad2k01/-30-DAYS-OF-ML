{
 "cells": [
  {
   "cell_type": "markdown",
   "id": "2cd9dc7f",
   "metadata": {
    "papermill": {
     "duration": 0.090058,
     "end_time": "2022-02-14T19:58:54.372622",
     "exception": false,
     "start_time": "2022-02-14T19:58:54.282564",
     "status": "completed"
    },
    "tags": []
   },
   "source": [
    "**This notebook is an exercise in the [Intermediate Machine Learning](https://www.kaggle.com/learn/intermediate-machine-learning) course.  You can reference the tutorial at [this link](https://www.kaggle.com/alexisbcook/categorical-variables).**\n",
    "\n",
    "---\n"
   ]
  },
  {
   "cell_type": "markdown",
   "id": "65f044d3",
   "metadata": {
    "papermill": {
     "duration": 0.083334,
     "end_time": "2022-02-14T19:58:54.545086",
     "exception": false,
     "start_time": "2022-02-14T19:58:54.461752",
     "status": "completed"
    },
    "tags": []
   },
   "source": [
    "By encoding **categorical variables**, you'll obtain your best results thus far!\n",
    "\n",
    "# Setup\n",
    "\n",
    "The questions below will give you feedback on your work. Run the following cell to set up the feedback system."
   ]
  },
  {
   "cell_type": "code",
   "execution_count": 1,
   "id": "73f4d47a",
   "metadata": {
    "execution": {
     "iopub.execute_input": "2022-02-14T19:58:54.712107Z",
     "iopub.status.busy": "2022-02-14T19:58:54.710939Z",
     "iopub.status.idle": "2022-02-14T19:58:54.766253Z",
     "shell.execute_reply": "2022-02-14T19:58:54.765339Z",
     "shell.execute_reply.started": "2022-02-14T19:53:04.910214Z"
    },
    "papermill": {
     "duration": 0.14036,
     "end_time": "2022-02-14T19:58:54.766451",
     "exception": false,
     "start_time": "2022-02-14T19:58:54.626091",
     "status": "completed"
    },
    "tags": []
   },
   "outputs": [
    {
     "name": "stdout",
     "output_type": "stream",
     "text": [
      "Setup Complete\n"
     ]
    }
   ],
   "source": [
    "# Set up code checking\n",
    "import os\n",
    "if not os.path.exists(\"../input/train.csv\"):\n",
    "    os.symlink(\"../input/home-data-for-ml-course/train.csv\", \"../input/train.csv\")  \n",
    "    os.symlink(\"../input/home-data-for-ml-course/test.csv\", \"../input/test.csv\") \n",
    "from learntools.core import binder\n",
    "binder.bind(globals())\n",
    "from learntools.ml_intermediate.ex3 import *\n",
    "print(\"Setup Complete\")"
   ]
  },
  {
   "cell_type": "code",
   "execution_count": null,
   "id": "84a7b793",
   "metadata": {
    "papermill": {
     "duration": 0.055897,
     "end_time": "2022-02-14T19:58:54.907614",
     "exception": false,
     "start_time": "2022-02-14T19:58:54.851717",
     "status": "completed"
    },
    "tags": []
   },
   "outputs": [],
   "source": []
  },
  {
   "cell_type": "code",
   "execution_count": null,
   "id": "d786f69a",
   "metadata": {
    "papermill": {
     "duration": 0.053875,
     "end_time": "2022-02-14T19:58:55.016802",
     "exception": false,
     "start_time": "2022-02-14T19:58:54.962927",
     "status": "completed"
    },
    "tags": []
   },
   "outputs": [],
   "source": []
  },
  {
   "cell_type": "code",
   "execution_count": null,
   "id": "a2f5f7e5",
   "metadata": {
    "papermill": {
     "duration": 0.053404,
     "end_time": "2022-02-14T19:58:55.124555",
     "exception": false,
     "start_time": "2022-02-14T19:58:55.071151",
     "status": "completed"
    },
    "tags": []
   },
   "outputs": [],
   "source": []
  },
  {
   "cell_type": "markdown",
   "id": "3603d5dc",
   "metadata": {
    "papermill": {
     "duration": 0.05464,
     "end_time": "2022-02-14T19:58:55.236409",
     "exception": false,
     "start_time": "2022-02-14T19:58:55.181769",
     "status": "completed"
    },
    "tags": []
   },
   "source": [
    "In this exercise, you will work with data from the [Housing Prices Competition for Kaggle Learn Users](https://www.kaggle.com/c/home-data-for-ml-course). \n",
    "\n",
    "![Ames Housing dataset image](https://i.imgur.com/lTJVG4e.png)\n",
    "\n",
    "Run the next code cell without changes to load the training and validation sets in `X_train`, `X_valid`, `y_train`, and `y_valid`.  The test set is loaded in `X_test`."
   ]
  },
  {
   "cell_type": "code",
   "execution_count": 2,
   "id": "e2e93df9",
   "metadata": {
    "execution": {
     "iopub.execute_input": "2022-02-14T19:58:55.393167Z",
     "iopub.status.busy": "2022-02-14T19:58:55.392257Z",
     "iopub.status.idle": "2022-02-14T19:58:56.938592Z",
     "shell.execute_reply": "2022-02-14T19:58:56.937994Z",
     "shell.execute_reply.started": "2022-02-14T19:53:13.626841Z"
    },
    "papermill": {
     "duration": 1.635925,
     "end_time": "2022-02-14T19:58:56.938743",
     "exception": false,
     "start_time": "2022-02-14T19:58:55.302818",
     "status": "completed"
    },
    "tags": []
   },
   "outputs": [],
   "source": [
    "import pandas as pd\n",
    "from sklearn.model_selection import train_test_split\n",
    "\n",
    "# Read the data\n",
    "X = pd.read_csv('../input/train.csv', index_col='Id') \n",
    "X_test = pd.read_csv('../input/test.csv', index_col='Id')\n",
    "\n",
    "# Remove rows with missing target, separate target from predictors\n",
    "X.dropna(axis=0, subset=['SalePrice'], inplace=True)\n",
    "y = X.SalePrice\n",
    "X.drop(['SalePrice'], axis=1, inplace=True)\n",
    "\n",
    "# To keep things simple, we'll drop columns with missing values\n",
    "cols_with_missing = [col for col in X.columns if X[col].isnull().any()] \n",
    "X.drop(cols_with_missing, axis=1, inplace=True)\n",
    "X_test.drop(cols_with_missing, axis=1, inplace=True)\n",
    "\n",
    "# Break off validation set from training data\n",
    "X_train, X_valid, y_train, y_valid = train_test_split(X, y,\n",
    "                                                      train_size=0.8, test_size=0.2,\n",
    "                                                      random_state=0)"
   ]
  },
  {
   "cell_type": "code",
   "execution_count": null,
   "id": "a44b2081",
   "metadata": {
    "papermill": {
     "duration": 0.055847,
     "end_time": "2022-02-14T19:58:57.048809",
     "exception": false,
     "start_time": "2022-02-14T19:58:56.992962",
     "status": "completed"
    },
    "tags": []
   },
   "outputs": [],
   "source": []
  },
  {
   "cell_type": "code",
   "execution_count": null,
   "id": "5982db07",
   "metadata": {
    "papermill": {
     "duration": 0.05889,
     "end_time": "2022-02-14T19:58:57.167490",
     "exception": false,
     "start_time": "2022-02-14T19:58:57.108600",
     "status": "completed"
    },
    "tags": []
   },
   "outputs": [],
   "source": []
  },
  {
   "cell_type": "markdown",
   "id": "cecb43ef",
   "metadata": {
    "papermill": {
     "duration": 0.058057,
     "end_time": "2022-02-14T19:58:57.283483",
     "exception": false,
     "start_time": "2022-02-14T19:58:57.225426",
     "status": "completed"
    },
    "tags": []
   },
   "source": [
    "Use the next code cell to print the first five rows of the data."
   ]
  },
  {
   "cell_type": "code",
   "execution_count": 3,
   "id": "2ab17ea2",
   "metadata": {
    "execution": {
     "iopub.execute_input": "2022-02-14T19:58:57.459984Z",
     "iopub.status.busy": "2022-02-14T19:58:57.459450Z",
     "iopub.status.idle": "2022-02-14T19:58:57.482046Z",
     "shell.execute_reply": "2022-02-14T19:58:57.481509Z",
     "shell.execute_reply.started": "2022-02-14T19:53:21.564863Z"
    },
    "papermill": {
     "duration": 0.114413,
     "end_time": "2022-02-14T19:58:57.482176",
     "exception": false,
     "start_time": "2022-02-14T19:58:57.367763",
     "status": "completed"
    },
    "tags": []
   },
   "outputs": [
    {
     "data": {
      "text/html": [
       "<div>\n",
       "<style scoped>\n",
       "    .dataframe tbody tr th:only-of-type {\n",
       "        vertical-align: middle;\n",
       "    }\n",
       "\n",
       "    .dataframe tbody tr th {\n",
       "        vertical-align: top;\n",
       "    }\n",
       "\n",
       "    .dataframe thead th {\n",
       "        text-align: right;\n",
       "    }\n",
       "</style>\n",
       "<table border=\"1\" class=\"dataframe\">\n",
       "  <thead>\n",
       "    <tr style=\"text-align: right;\">\n",
       "      <th></th>\n",
       "      <th>MSSubClass</th>\n",
       "      <th>MSZoning</th>\n",
       "      <th>LotArea</th>\n",
       "      <th>Street</th>\n",
       "      <th>LotShape</th>\n",
       "      <th>LandContour</th>\n",
       "      <th>Utilities</th>\n",
       "      <th>LotConfig</th>\n",
       "      <th>LandSlope</th>\n",
       "      <th>Neighborhood</th>\n",
       "      <th>...</th>\n",
       "      <th>OpenPorchSF</th>\n",
       "      <th>EnclosedPorch</th>\n",
       "      <th>3SsnPorch</th>\n",
       "      <th>ScreenPorch</th>\n",
       "      <th>PoolArea</th>\n",
       "      <th>MiscVal</th>\n",
       "      <th>MoSold</th>\n",
       "      <th>YrSold</th>\n",
       "      <th>SaleType</th>\n",
       "      <th>SaleCondition</th>\n",
       "    </tr>\n",
       "    <tr>\n",
       "      <th>Id</th>\n",
       "      <th></th>\n",
       "      <th></th>\n",
       "      <th></th>\n",
       "      <th></th>\n",
       "      <th></th>\n",
       "      <th></th>\n",
       "      <th></th>\n",
       "      <th></th>\n",
       "      <th></th>\n",
       "      <th></th>\n",
       "      <th></th>\n",
       "      <th></th>\n",
       "      <th></th>\n",
       "      <th></th>\n",
       "      <th></th>\n",
       "      <th></th>\n",
       "      <th></th>\n",
       "      <th></th>\n",
       "      <th></th>\n",
       "      <th></th>\n",
       "      <th></th>\n",
       "    </tr>\n",
       "  </thead>\n",
       "  <tbody>\n",
       "    <tr>\n",
       "      <th>619</th>\n",
       "      <td>20</td>\n",
       "      <td>RL</td>\n",
       "      <td>11694</td>\n",
       "      <td>Pave</td>\n",
       "      <td>Reg</td>\n",
       "      <td>Lvl</td>\n",
       "      <td>AllPub</td>\n",
       "      <td>Inside</td>\n",
       "      <td>Gtl</td>\n",
       "      <td>NridgHt</td>\n",
       "      <td>...</td>\n",
       "      <td>108</td>\n",
       "      <td>0</td>\n",
       "      <td>0</td>\n",
       "      <td>260</td>\n",
       "      <td>0</td>\n",
       "      <td>0</td>\n",
       "      <td>7</td>\n",
       "      <td>2007</td>\n",
       "      <td>New</td>\n",
       "      <td>Partial</td>\n",
       "    </tr>\n",
       "    <tr>\n",
       "      <th>871</th>\n",
       "      <td>20</td>\n",
       "      <td>RL</td>\n",
       "      <td>6600</td>\n",
       "      <td>Pave</td>\n",
       "      <td>Reg</td>\n",
       "      <td>Lvl</td>\n",
       "      <td>AllPub</td>\n",
       "      <td>Inside</td>\n",
       "      <td>Gtl</td>\n",
       "      <td>NAmes</td>\n",
       "      <td>...</td>\n",
       "      <td>0</td>\n",
       "      <td>0</td>\n",
       "      <td>0</td>\n",
       "      <td>0</td>\n",
       "      <td>0</td>\n",
       "      <td>0</td>\n",
       "      <td>8</td>\n",
       "      <td>2009</td>\n",
       "      <td>WD</td>\n",
       "      <td>Normal</td>\n",
       "    </tr>\n",
       "    <tr>\n",
       "      <th>93</th>\n",
       "      <td>30</td>\n",
       "      <td>RL</td>\n",
       "      <td>13360</td>\n",
       "      <td>Pave</td>\n",
       "      <td>IR1</td>\n",
       "      <td>HLS</td>\n",
       "      <td>AllPub</td>\n",
       "      <td>Inside</td>\n",
       "      <td>Gtl</td>\n",
       "      <td>Crawfor</td>\n",
       "      <td>...</td>\n",
       "      <td>0</td>\n",
       "      <td>44</td>\n",
       "      <td>0</td>\n",
       "      <td>0</td>\n",
       "      <td>0</td>\n",
       "      <td>0</td>\n",
       "      <td>8</td>\n",
       "      <td>2009</td>\n",
       "      <td>WD</td>\n",
       "      <td>Normal</td>\n",
       "    </tr>\n",
       "    <tr>\n",
       "      <th>818</th>\n",
       "      <td>20</td>\n",
       "      <td>RL</td>\n",
       "      <td>13265</td>\n",
       "      <td>Pave</td>\n",
       "      <td>IR1</td>\n",
       "      <td>Lvl</td>\n",
       "      <td>AllPub</td>\n",
       "      <td>CulDSac</td>\n",
       "      <td>Gtl</td>\n",
       "      <td>Mitchel</td>\n",
       "      <td>...</td>\n",
       "      <td>59</td>\n",
       "      <td>0</td>\n",
       "      <td>0</td>\n",
       "      <td>0</td>\n",
       "      <td>0</td>\n",
       "      <td>0</td>\n",
       "      <td>7</td>\n",
       "      <td>2008</td>\n",
       "      <td>WD</td>\n",
       "      <td>Normal</td>\n",
       "    </tr>\n",
       "    <tr>\n",
       "      <th>303</th>\n",
       "      <td>20</td>\n",
       "      <td>RL</td>\n",
       "      <td>13704</td>\n",
       "      <td>Pave</td>\n",
       "      <td>IR1</td>\n",
       "      <td>Lvl</td>\n",
       "      <td>AllPub</td>\n",
       "      <td>Corner</td>\n",
       "      <td>Gtl</td>\n",
       "      <td>CollgCr</td>\n",
       "      <td>...</td>\n",
       "      <td>81</td>\n",
       "      <td>0</td>\n",
       "      <td>0</td>\n",
       "      <td>0</td>\n",
       "      <td>0</td>\n",
       "      <td>0</td>\n",
       "      <td>1</td>\n",
       "      <td>2006</td>\n",
       "      <td>WD</td>\n",
       "      <td>Normal</td>\n",
       "    </tr>\n",
       "  </tbody>\n",
       "</table>\n",
       "<p>5 rows × 60 columns</p>\n",
       "</div>"
      ],
      "text/plain": [
       "     MSSubClass MSZoning  LotArea Street LotShape LandContour Utilities  \\\n",
       "Id                                                                        \n",
       "619          20       RL    11694   Pave      Reg         Lvl    AllPub   \n",
       "871          20       RL     6600   Pave      Reg         Lvl    AllPub   \n",
       "93           30       RL    13360   Pave      IR1         HLS    AllPub   \n",
       "818          20       RL    13265   Pave      IR1         Lvl    AllPub   \n",
       "303          20       RL    13704   Pave      IR1         Lvl    AllPub   \n",
       "\n",
       "    LotConfig LandSlope Neighborhood  ... OpenPorchSF EnclosedPorch 3SsnPorch  \\\n",
       "Id                                    ...                                       \n",
       "619    Inside       Gtl      NridgHt  ...         108             0         0   \n",
       "871    Inside       Gtl        NAmes  ...           0             0         0   \n",
       "93     Inside       Gtl      Crawfor  ...           0            44         0   \n",
       "818   CulDSac       Gtl      Mitchel  ...          59             0         0   \n",
       "303    Corner       Gtl      CollgCr  ...          81             0         0   \n",
       "\n",
       "    ScreenPorch  PoolArea  MiscVal  MoSold  YrSold SaleType SaleCondition  \n",
       "Id                                                                         \n",
       "619         260         0        0       7    2007      New       Partial  \n",
       "871           0         0        0       8    2009       WD        Normal  \n",
       "93            0         0        0       8    2009       WD        Normal  \n",
       "818           0         0        0       7    2008       WD        Normal  \n",
       "303           0         0        0       1    2006       WD        Normal  \n",
       "\n",
       "[5 rows x 60 columns]"
      ]
     },
     "execution_count": 3,
     "metadata": {},
     "output_type": "execute_result"
    }
   ],
   "source": [
    "X_train.head()"
   ]
  },
  {
   "cell_type": "code",
   "execution_count": null,
   "id": "b0ad245e",
   "metadata": {
    "papermill": {
     "duration": 0.053951,
     "end_time": "2022-02-14T19:58:57.590558",
     "exception": false,
     "start_time": "2022-02-14T19:58:57.536607",
     "status": "completed"
    },
    "tags": []
   },
   "outputs": [],
   "source": []
  },
  {
   "cell_type": "code",
   "execution_count": null,
   "id": "660bc28f",
   "metadata": {
    "papermill": {
     "duration": 0.052994,
     "end_time": "2022-02-14T19:58:57.697123",
     "exception": false,
     "start_time": "2022-02-14T19:58:57.644129",
     "status": "completed"
    },
    "tags": []
   },
   "outputs": [],
   "source": []
  },
  {
   "cell_type": "markdown",
   "id": "4ff21061",
   "metadata": {
    "papermill": {
     "duration": 0.054572,
     "end_time": "2022-02-14T19:58:57.806414",
     "exception": false,
     "start_time": "2022-02-14T19:58:57.751842",
     "status": "completed"
    },
    "tags": []
   },
   "source": [
    "Notice that the dataset contains both numerical and categorical variables.  You'll need to encode the categorical data before training a model.\n",
    "\n",
    "To compare different models, you'll use the same `score_dataset()` function from the tutorial.  This function reports the [mean absolute error](https://en.wikipedia.org/wiki/Mean_absolute_error) (MAE) from a random forest model."
   ]
  },
  {
   "cell_type": "code",
   "execution_count": 4,
   "id": "b5350ac7",
   "metadata": {
    "execution": {
     "iopub.execute_input": "2022-02-14T19:58:57.921829Z",
     "iopub.status.busy": "2022-02-14T19:58:57.921262Z",
     "iopub.status.idle": "2022-02-14T19:58:58.141960Z",
     "shell.execute_reply": "2022-02-14T19:58:58.141464Z",
     "shell.execute_reply.started": "2022-02-14T19:53:28.534445Z"
    },
    "papermill": {
     "duration": 0.280873,
     "end_time": "2022-02-14T19:58:58.142088",
     "exception": false,
     "start_time": "2022-02-14T19:58:57.861215",
     "status": "completed"
    },
    "tags": []
   },
   "outputs": [],
   "source": [
    "from sklearn.ensemble import RandomForestRegressor\n",
    "from sklearn.metrics import mean_absolute_error\n",
    "\n",
    "# function for comparing different approaches\n",
    "def score_dataset(X_train, X_valid, y_train, y_valid):\n",
    "    model = RandomForestRegressor(n_estimators=100, random_state=0)\n",
    "    model.fit(X_train, y_train)\n",
    "    preds = model.predict(X_valid)\n",
    "    return mean_absolute_error(y_valid, preds)"
   ]
  },
  {
   "cell_type": "code",
   "execution_count": null,
   "id": "0d942129",
   "metadata": {
    "papermill": {
     "duration": 0.056068,
     "end_time": "2022-02-14T19:58:58.253881",
     "exception": false,
     "start_time": "2022-02-14T19:58:58.197813",
     "status": "completed"
    },
    "tags": []
   },
   "outputs": [],
   "source": []
  },
  {
   "cell_type": "code",
   "execution_count": null,
   "id": "2b12cdeb",
   "metadata": {
    "papermill": {
     "duration": 0.055354,
     "end_time": "2022-02-14T19:58:58.367760",
     "exception": false,
     "start_time": "2022-02-14T19:58:58.312406",
     "status": "completed"
    },
    "tags": []
   },
   "outputs": [],
   "source": []
  },
  {
   "cell_type": "markdown",
   "id": "c25e22ae",
   "metadata": {
    "papermill": {
     "duration": 0.053607,
     "end_time": "2022-02-14T19:58:58.475841",
     "exception": false,
     "start_time": "2022-02-14T19:58:58.422234",
     "status": "completed"
    },
    "tags": []
   },
   "source": [
    "# Step 1: Drop columns with categorical data\n",
    "\n",
    "You'll get started with the most straightforward approach.  Use the code cell below to preprocess the data in `X_train` and `X_valid` to remove columns with categorical data.  Set the preprocessed DataFrames to `drop_X_train` and `drop_X_valid`, respectively.  "
   ]
  },
  {
   "cell_type": "code",
   "execution_count": 5,
   "id": "a5390c32",
   "metadata": {
    "execution": {
     "iopub.execute_input": "2022-02-14T19:58:58.596169Z",
     "iopub.status.busy": "2022-02-14T19:58:58.595615Z",
     "iopub.status.idle": "2022-02-14T19:58:58.602569Z",
     "shell.execute_reply": "2022-02-14T19:58:58.603182Z",
     "shell.execute_reply.started": "2022-02-14T19:53:44.814179Z"
    },
    "papermill": {
     "duration": 0.073573,
     "end_time": "2022-02-14T19:58:58.603370",
     "exception": false,
     "start_time": "2022-02-14T19:58:58.529797",
     "status": "completed"
    },
    "tags": []
   },
   "outputs": [
    {
     "data": {
      "application/javascript": [
       "parent.postMessage({\"jupyterEvent\": \"custom.exercise_interaction\", \"data\": {\"outcomeType\": 1, \"valueTowardsCompletion\": 0.5, \"interactionType\": 1, \"questionType\": 2, \"questionId\": \"1_Drop\", \"learnToolsVersion\": \"0.3.4\", \"failureMessage\": \"\", \"exceptionClass\": \"\", \"trace\": \"\"}}, \"*\")"
      ],
      "text/plain": [
       "<IPython.core.display.Javascript object>"
      ]
     },
     "metadata": {},
     "output_type": "display_data"
    },
    {
     "data": {
      "text/markdown": [
       "<span style=\"color:#33cc33\">Correct</span>"
      ],
      "text/plain": [
       "Correct"
      ]
     },
     "metadata": {},
     "output_type": "display_data"
    }
   ],
   "source": [
    "# Fill in the lines below: drop columns in training and validation data\n",
    "drop_X_train = X_train.select_dtypes(exclude=['object'])\n",
    "drop_X_valid = X_valid.select_dtypes(exclude=['object'])\n",
    "\n",
    "# Check your answers\n",
    "step_1.check()"
   ]
  },
  {
   "cell_type": "code",
   "execution_count": null,
   "id": "627d7fc4",
   "metadata": {
    "papermill": {
     "duration": 0.082,
     "end_time": "2022-02-14T19:58:58.769551",
     "exception": false,
     "start_time": "2022-02-14T19:58:58.687551",
     "status": "completed"
    },
    "tags": []
   },
   "outputs": [],
   "source": []
  },
  {
   "cell_type": "code",
   "execution_count": null,
   "id": "eb15d97e",
   "metadata": {
    "papermill": {
     "duration": 0.053843,
     "end_time": "2022-02-14T19:58:58.890143",
     "exception": false,
     "start_time": "2022-02-14T19:58:58.836300",
     "status": "completed"
    },
    "tags": []
   },
   "outputs": [],
   "source": []
  },
  {
   "cell_type": "code",
   "execution_count": null,
   "id": "5d4f5c93",
   "metadata": {
    "papermill": {
     "duration": 0.056393,
     "end_time": "2022-02-14T19:58:59.001906",
     "exception": false,
     "start_time": "2022-02-14T19:58:58.945513",
     "status": "completed"
    },
    "tags": []
   },
   "outputs": [],
   "source": []
  },
  {
   "cell_type": "code",
   "execution_count": 6,
   "id": "e25d4299",
   "metadata": {
    "execution": {
     "iopub.execute_input": "2022-02-14T19:58:59.118851Z",
     "iopub.status.busy": "2022-02-14T19:58:59.118294Z",
     "iopub.status.idle": "2022-02-14T19:58:59.120355Z",
     "shell.execute_reply": "2022-02-14T19:58:59.120801Z"
    },
    "papermill": {
     "duration": 0.062175,
     "end_time": "2022-02-14T19:58:59.120956",
     "exception": false,
     "start_time": "2022-02-14T19:58:59.058781",
     "status": "completed"
    },
    "tags": []
   },
   "outputs": [],
   "source": [
    "# Lines below will give you a hint or solution code\n",
    "#step_1.hint()\n",
    "#step_1.solution()"
   ]
  },
  {
   "cell_type": "markdown",
   "id": "2977b254",
   "metadata": {
    "papermill": {
     "duration": 0.056279,
     "end_time": "2022-02-14T19:58:59.235764",
     "exception": false,
     "start_time": "2022-02-14T19:58:59.179485",
     "status": "completed"
    },
    "tags": []
   },
   "source": [
    "Run the next code cell to get the MAE for this approach."
   ]
  },
  {
   "cell_type": "code",
   "execution_count": 7,
   "id": "52fb8c52",
   "metadata": {
    "execution": {
     "iopub.execute_input": "2022-02-14T19:58:59.410004Z",
     "iopub.status.busy": "2022-02-14T19:58:59.399453Z",
     "iopub.status.idle": "2022-02-14T19:59:00.639955Z",
     "shell.execute_reply": "2022-02-14T19:59:00.638323Z",
     "shell.execute_reply.started": "2022-02-14T19:53:53.313924Z"
    },
    "papermill": {
     "duration": 1.345804,
     "end_time": "2022-02-14T19:59:00.640119",
     "exception": false,
     "start_time": "2022-02-14T19:58:59.294315",
     "status": "completed"
    },
    "tags": []
   },
   "outputs": [
    {
     "name": "stdout",
     "output_type": "stream",
     "text": [
      "MAE from Approach 1 (Drop categorical variables):\n",
      "17837.82570776256\n"
     ]
    }
   ],
   "source": [
    "print(\"MAE from Approach 1 (Drop categorical variables):\")\n",
    "print(score_dataset(drop_X_train, drop_X_valid, y_train, y_valid))"
   ]
  },
  {
   "cell_type": "code",
   "execution_count": null,
   "id": "5d4165cf",
   "metadata": {
    "papermill": {
     "duration": 0.057067,
     "end_time": "2022-02-14T19:59:00.753946",
     "exception": false,
     "start_time": "2022-02-14T19:59:00.696879",
     "status": "completed"
    },
    "tags": []
   },
   "outputs": [],
   "source": []
  },
  {
   "cell_type": "code",
   "execution_count": null,
   "id": "01a87302",
   "metadata": {
    "papermill": {
     "duration": 0.055522,
     "end_time": "2022-02-14T19:59:00.868238",
     "exception": false,
     "start_time": "2022-02-14T19:59:00.812716",
     "status": "completed"
    },
    "tags": []
   },
   "outputs": [],
   "source": []
  },
  {
   "cell_type": "markdown",
   "id": "c971dad2",
   "metadata": {
    "papermill": {
     "duration": 0.05513,
     "end_time": "2022-02-14T19:59:00.980439",
     "exception": false,
     "start_time": "2022-02-14T19:59:00.925309",
     "status": "completed"
    },
    "tags": []
   },
   "source": [
    "Before jumping into ordinal encoding, we'll investigate the dataset.  Specifically, we'll look at the `'Condition2'` column.  The code cell below prints the unique entries in both the training and validation sets."
   ]
  },
  {
   "cell_type": "code",
   "execution_count": 8,
   "id": "831e58ea",
   "metadata": {
    "execution": {
     "iopub.execute_input": "2022-02-14T19:59:01.099018Z",
     "iopub.status.busy": "2022-02-14T19:59:01.098462Z",
     "iopub.status.idle": "2022-02-14T19:59:01.101923Z",
     "shell.execute_reply": "2022-02-14T19:59:01.102308Z",
     "shell.execute_reply.started": "2022-02-14T19:54:00.628207Z"
    },
    "papermill": {
     "duration": 0.065652,
     "end_time": "2022-02-14T19:59:01.102470",
     "exception": false,
     "start_time": "2022-02-14T19:59:01.036818",
     "status": "completed"
    },
    "tags": []
   },
   "outputs": [
    {
     "name": "stdout",
     "output_type": "stream",
     "text": [
      "Unique values in 'Condition2' column in training data: ['Norm' 'PosA' 'Feedr' 'PosN' 'Artery' 'RRAe']\n",
      "\n",
      "Unique values in 'Condition2' column in validation data: ['Norm' 'RRAn' 'RRNn' 'Artery' 'Feedr' 'PosN']\n"
     ]
    }
   ],
   "source": [
    "print(\"Unique values in 'Condition2' column in training data:\", X_train['Condition2'].unique())\n",
    "print(\"\\nUnique values in 'Condition2' column in validation data:\", X_valid['Condition2'].unique())"
   ]
  },
  {
   "cell_type": "code",
   "execution_count": null,
   "id": "43e756f4",
   "metadata": {
    "papermill": {
     "duration": 0.055534,
     "end_time": "2022-02-14T19:59:01.213520",
     "exception": false,
     "start_time": "2022-02-14T19:59:01.157986",
     "status": "completed"
    },
    "tags": []
   },
   "outputs": [],
   "source": []
  },
  {
   "cell_type": "markdown",
   "id": "156ab431",
   "metadata": {
    "papermill": {
     "duration": 0.067191,
     "end_time": "2022-02-14T19:59:01.338016",
     "exception": false,
     "start_time": "2022-02-14T19:59:01.270825",
     "status": "completed"
    },
    "tags": []
   },
   "source": [
    "# Step 2: Ordinal encoding\n",
    "\n",
    "### Part A\n",
    "\n",
    "If you now write code to: \n",
    "- fit an ordinal encoder to the training data, and then \n",
    "- use it to transform both the training and validation data, \n",
    "\n",
    "you'll get an error.  Can you see why this is the case?  (_You'll need  to use the above output to answer this question._)"
   ]
  },
  {
   "cell_type": "code",
   "execution_count": 9,
   "id": "f70a97eb",
   "metadata": {
    "execution": {
     "iopub.execute_input": "2022-02-14T19:59:01.518959Z",
     "iopub.status.busy": "2022-02-14T19:59:01.518154Z",
     "iopub.status.idle": "2022-02-14T19:59:01.522968Z",
     "shell.execute_reply": "2022-02-14T19:59:01.522390Z",
     "shell.execute_reply.started": "2022-02-14T19:54:10.688640Z"
    },
    "papermill": {
     "duration": 0.097008,
     "end_time": "2022-02-14T19:59:01.523109",
     "exception": false,
     "start_time": "2022-02-14T19:59:01.426101",
     "status": "completed"
    },
    "tags": []
   },
   "outputs": [
    {
     "data": {
      "application/javascript": [
       "parent.postMessage({\"jupyterEvent\": \"custom.exercise_interaction\", \"data\": {\"outcomeType\": 1, \"valueTowardsCompletion\": 0.5, \"interactionType\": 1, \"questionType\": 4, \"questionId\": \"2.1_LabelA\", \"learnToolsVersion\": \"0.3.4\", \"failureMessage\": \"\", \"exceptionClass\": \"\", \"trace\": \"\"}}, \"*\")"
      ],
      "text/plain": [
       "<IPython.core.display.Javascript object>"
      ]
     },
     "metadata": {},
     "output_type": "display_data"
    },
    {
     "data": {
      "text/markdown": [
       "<span style=\"color:#33cc33\">Correct:</span> \n",
       "\n",
       "Fitting an ordinal encoder to a column in the training data creates a corresponding integer-valued label for each unique value **that appears in the training data**. In the case that the validation data contains values that don't also appear in the training data, the encoder will throw an error, because these values won't have an integer assigned to them.  Notice that the `'Condition2'` column in the validation data contains the values `'RRAn'` and `'RRNn'`, but these don't appear in the training data -- thus, if we try to use an ordinal encoder with scikit-learn, the code will throw an error."
      ],
      "text/plain": [
       "Correct: \n",
       "\n",
       "Fitting an ordinal encoder to a column in the training data creates a corresponding integer-valued label for each unique value **that appears in the training data**. In the case that the validation data contains values that don't also appear in the training data, the encoder will throw an error, because these values won't have an integer assigned to them.  Notice that the `'Condition2'` column in the validation data contains the values `'RRAn'` and `'RRNn'`, but these don't appear in the training data -- thus, if we try to use an ordinal encoder with scikit-learn, the code will throw an error."
      ]
     },
     "metadata": {},
     "output_type": "display_data"
    }
   ],
   "source": [
    "# Check your answer (Run this code cell to receive credit!)\n",
    "step_2.a.check()"
   ]
  },
  {
   "cell_type": "code",
   "execution_count": null,
   "id": "1b561951",
   "metadata": {
    "papermill": {
     "duration": 0.089247,
     "end_time": "2022-02-14T19:59:01.702111",
     "exception": false,
     "start_time": "2022-02-14T19:59:01.612864",
     "status": "completed"
    },
    "tags": []
   },
   "outputs": [],
   "source": []
  },
  {
   "cell_type": "code",
   "execution_count": null,
   "id": "e8f81672",
   "metadata": {
    "papermill": {
     "duration": 0.08953,
     "end_time": "2022-02-14T19:59:01.884076",
     "exception": false,
     "start_time": "2022-02-14T19:59:01.794546",
     "status": "completed"
    },
    "tags": []
   },
   "outputs": [],
   "source": []
  },
  {
   "cell_type": "code",
   "execution_count": 10,
   "id": "df219c91",
   "metadata": {
    "execution": {
     "iopub.execute_input": "2022-02-14T19:59:02.070520Z",
     "iopub.status.busy": "2022-02-14T19:59:02.069823Z",
     "iopub.status.idle": "2022-02-14T19:59:02.072115Z",
     "shell.execute_reply": "2022-02-14T19:59:02.071446Z"
    },
    "papermill": {
     "duration": 0.09542,
     "end_time": "2022-02-14T19:59:02.072260",
     "exception": false,
     "start_time": "2022-02-14T19:59:01.976840",
     "status": "completed"
    },
    "tags": []
   },
   "outputs": [],
   "source": [
    "#step_2.a.hint()"
   ]
  },
  {
   "cell_type": "markdown",
   "id": "0edcc9c0",
   "metadata": {
    "papermill": {
     "duration": 0.092109,
     "end_time": "2022-02-14T19:59:02.253940",
     "exception": false,
     "start_time": "2022-02-14T19:59:02.161831",
     "status": "completed"
    },
    "tags": []
   },
   "source": [
    "This is a common problem that you'll encounter with real-world data, and there are many approaches to fixing this issue.  For instance, you can write a custom ordinal encoder to deal with new categories.  The simplest approach, however, is to drop the problematic categorical columns.  \n",
    "\n",
    "Run the code cell below to save the problematic columns to a Python list `bad_label_cols`.  Likewise, columns that can be safely ordinal encoded are stored in `good_label_cols`."
   ]
  },
  {
   "cell_type": "code",
   "execution_count": 11,
   "id": "35c1177d",
   "metadata": {
    "execution": {
     "iopub.execute_input": "2022-02-14T19:59:02.447932Z",
     "iopub.status.busy": "2022-02-14T19:59:02.447172Z",
     "iopub.status.idle": "2022-02-14T19:59:02.459812Z",
     "shell.execute_reply": "2022-02-14T19:59:02.460362Z",
     "shell.execute_reply.started": "2022-02-14T19:54:20.675773Z"
    },
    "papermill": {
     "duration": 0.107263,
     "end_time": "2022-02-14T19:59:02.460549",
     "exception": false,
     "start_time": "2022-02-14T19:59:02.353286",
     "status": "completed"
    },
    "tags": []
   },
   "outputs": [
    {
     "name": "stdout",
     "output_type": "stream",
     "text": [
      "Categorical columns that will be ordinal encoded: ['MSZoning', 'Street', 'LotShape', 'LandContour', 'Utilities', 'LotConfig', 'LandSlope', 'Neighborhood', 'Condition1', 'BldgType', 'HouseStyle', 'RoofStyle', 'Exterior1st', 'Exterior2nd', 'ExterQual', 'ExterCond', 'Foundation', 'Heating', 'HeatingQC', 'CentralAir', 'KitchenQual', 'PavedDrive', 'SaleType', 'SaleCondition']\n",
      "\n",
      "Categorical columns that will be dropped from the dataset: ['RoofMatl', 'Functional', 'Condition2']\n"
     ]
    }
   ],
   "source": [
    "# Categorical columns in the training data\n",
    "object_cols = [col for col in X_train.columns if X_train[col].dtype == \"object\"]\n",
    "\n",
    "# Columns that can be safely ordinal encoded\n",
    "good_label_cols = [col for col in object_cols if \n",
    "                   set(X_valid[col]).issubset(set(X_train[col]))]\n",
    "        \n",
    "# Problematic columns that will be dropped from the dataset\n",
    "bad_label_cols = list(set(object_cols)-set(good_label_cols))\n",
    "        \n",
    "print('Categorical columns that will be ordinal encoded:', good_label_cols)\n",
    "print('\\nCategorical columns that will be dropped from the dataset:', bad_label_cols)"
   ]
  },
  {
   "cell_type": "code",
   "execution_count": null,
   "id": "acc0e4f1",
   "metadata": {
    "papermill": {
     "duration": 0.088373,
     "end_time": "2022-02-14T19:59:02.649354",
     "exception": false,
     "start_time": "2022-02-14T19:59:02.560981",
     "status": "completed"
    },
    "tags": []
   },
   "outputs": [],
   "source": []
  },
  {
   "cell_type": "code",
   "execution_count": null,
   "id": "f50cda37",
   "metadata": {
    "papermill": {
     "duration": 0.085124,
     "end_time": "2022-02-14T19:59:02.820824",
     "exception": false,
     "start_time": "2022-02-14T19:59:02.735700",
     "status": "completed"
    },
    "tags": []
   },
   "outputs": [],
   "source": []
  },
  {
   "cell_type": "markdown",
   "id": "eaeb20a3",
   "metadata": {
    "papermill": {
     "duration": 0.090124,
     "end_time": "2022-02-14T19:59:03.002032",
     "exception": false,
     "start_time": "2022-02-14T19:59:02.911908",
     "status": "completed"
    },
    "tags": []
   },
   "source": [
    "### Part B\n",
    "\n",
    "Use the next code cell to ordinal encode the data in `X_train` and `X_valid`.  Set the preprocessed DataFrames to `label_X_train` and `label_X_valid`, respectively.  \n",
    "- We have provided code below to drop the categorical columns in `bad_label_cols` from the dataset. \n",
    "- You should ordinal encode the categorical columns in `good_label_cols`.  "
   ]
  },
  {
   "cell_type": "code",
   "execution_count": 12,
   "id": "ced4fece",
   "metadata": {
    "execution": {
     "iopub.execute_input": "2022-02-14T19:59:03.193653Z",
     "iopub.status.busy": "2022-02-14T19:59:03.192971Z",
     "iopub.status.idle": "2022-02-14T19:59:03.221763Z",
     "shell.execute_reply": "2022-02-14T19:59:03.222324Z",
     "shell.execute_reply.started": "2022-02-14T19:54:27.156439Z"
    },
    "papermill": {
     "duration": 0.129258,
     "end_time": "2022-02-14T19:59:03.222498",
     "exception": false,
     "start_time": "2022-02-14T19:59:03.093240",
     "status": "completed"
    },
    "tags": []
   },
   "outputs": [
    {
     "data": {
      "application/javascript": [
       "parent.postMessage({\"jupyterEvent\": \"custom.exercise_interaction\", \"data\": {\"outcomeType\": 1, \"valueTowardsCompletion\": 0.5, \"interactionType\": 1, \"questionType\": 2, \"questionId\": \"2.2_LabelB\", \"learnToolsVersion\": \"0.3.4\", \"failureMessage\": \"\", \"exceptionClass\": \"\", \"trace\": \"\"}}, \"*\")"
      ],
      "text/plain": [
       "<IPython.core.display.Javascript object>"
      ]
     },
     "metadata": {},
     "output_type": "display_data"
    },
    {
     "data": {
      "text/markdown": [
       "<span style=\"color:#33cc33\">Correct</span>"
      ],
      "text/plain": [
       "Correct"
      ]
     },
     "metadata": {},
     "output_type": "display_data"
    }
   ],
   "source": [
    "from sklearn.preprocessing import LabelEncoder\n",
    "\n",
    "# Drop categorical columns that will not be encoded\n",
    "label_X_train = X_train.drop(bad_label_cols, axis=1)\n",
    "label_X_valid = X_valid.drop(bad_label_cols, axis=1)\n",
    "\n",
    "# Apply label encoder \n",
    "# Your code here\n",
    "labelEncoder = LabelEncoder()\n",
    "for col in good_label_cols:\n",
    "    label_X_train[col] = labelEncoder.fit_transform(X_train[col])\n",
    "    label_X_valid[col] = labelEncoder.transform(X_valid[col])\n",
    "    \n",
    "# Check your answer\n",
    "step_2.b.check()"
   ]
  },
  {
   "cell_type": "code",
   "execution_count": null,
   "id": "53c9eb2d",
   "metadata": {
    "papermill": {
     "duration": 0.095594,
     "end_time": "2022-02-14T19:59:03.417117",
     "exception": false,
     "start_time": "2022-02-14T19:59:03.321523",
     "status": "completed"
    },
    "tags": []
   },
   "outputs": [],
   "source": []
  },
  {
   "cell_type": "code",
   "execution_count": null,
   "id": "5bf642ba",
   "metadata": {
    "papermill": {
     "duration": 0.09993,
     "end_time": "2022-02-14T19:59:03.608720",
     "exception": false,
     "start_time": "2022-02-14T19:59:03.508790",
     "status": "completed"
    },
    "tags": []
   },
   "outputs": [],
   "source": []
  },
  {
   "cell_type": "code",
   "execution_count": 13,
   "id": "d1ec91db",
   "metadata": {
    "execution": {
     "iopub.execute_input": "2022-02-14T19:59:03.813802Z",
     "iopub.status.busy": "2022-02-14T19:59:03.813058Z",
     "iopub.status.idle": "2022-02-14T19:59:03.815404Z",
     "shell.execute_reply": "2022-02-14T19:59:03.816066Z"
    },
    "papermill": {
     "duration": 0.10124,
     "end_time": "2022-02-14T19:59:03.816292",
     "exception": false,
     "start_time": "2022-02-14T19:59:03.715052",
     "status": "completed"
    },
    "tags": []
   },
   "outputs": [],
   "source": [
    "# Lines below will give you a hint or solution code\n",
    "#step_2.b.hint()\n",
    "#step_2.b.solution()"
   ]
  },
  {
   "cell_type": "markdown",
   "id": "2f4b901a",
   "metadata": {
    "papermill": {
     "duration": 0.098002,
     "end_time": "2022-02-14T19:59:04.009727",
     "exception": false,
     "start_time": "2022-02-14T19:59:03.911725",
     "status": "completed"
    },
    "tags": []
   },
   "source": [
    "Run the next code cell to get the MAE for this approach."
   ]
  },
  {
   "cell_type": "code",
   "execution_count": 14,
   "id": "682abd47",
   "metadata": {
    "execution": {
     "iopub.execute_input": "2022-02-14T19:59:04.207259Z",
     "iopub.status.busy": "2022-02-14T19:59:04.206535Z",
     "iopub.status.idle": "2022-02-14T19:59:05.710943Z",
     "shell.execute_reply": "2022-02-14T19:59:05.711712Z",
     "shell.execute_reply.started": "2022-02-14T19:54:34.820541Z"
    },
    "papermill": {
     "duration": 1.604847,
     "end_time": "2022-02-14T19:59:05.711966",
     "exception": false,
     "start_time": "2022-02-14T19:59:04.107119",
     "status": "completed"
    },
    "tags": []
   },
   "outputs": [
    {
     "name": "stdout",
     "output_type": "stream",
     "text": [
      "MAE from Approach 2 (Ordinal Encoding):\n",
      "17098.01649543379\n"
     ]
    }
   ],
   "source": [
    "print(\"MAE from Approach 2 (Ordinal Encoding):\") \n",
    "print(score_dataset(label_X_train, label_X_valid, y_train, y_valid))"
   ]
  },
  {
   "cell_type": "code",
   "execution_count": null,
   "id": "29295e66",
   "metadata": {
    "papermill": {
     "duration": 0.099167,
     "end_time": "2022-02-14T19:59:05.909689",
     "exception": false,
     "start_time": "2022-02-14T19:59:05.810522",
     "status": "completed"
    },
    "tags": []
   },
   "outputs": [],
   "source": []
  },
  {
   "cell_type": "code",
   "execution_count": null,
   "id": "ce9a6251",
   "metadata": {
    "papermill": {
     "duration": 0.097427,
     "end_time": "2022-02-14T19:59:06.102866",
     "exception": false,
     "start_time": "2022-02-14T19:59:06.005439",
     "status": "completed"
    },
    "tags": []
   },
   "outputs": [],
   "source": []
  },
  {
   "cell_type": "markdown",
   "id": "0c8d9361",
   "metadata": {
    "papermill": {
     "duration": 0.102398,
     "end_time": "2022-02-14T19:59:06.300108",
     "exception": false,
     "start_time": "2022-02-14T19:59:06.197710",
     "status": "completed"
    },
    "tags": []
   },
   "source": [
    "So far, you've tried two different approaches to dealing with categorical variables.  And, you've seen that encoding categorical data yields better results than removing columns from the dataset.\n",
    "\n",
    "Soon, you'll try one-hot encoding.  Before then, there's one additional topic we need to cover.  Begin by running the next code cell without changes.  "
   ]
  },
  {
   "cell_type": "code",
   "execution_count": 15,
   "id": "769e33b3",
   "metadata": {
    "execution": {
     "iopub.execute_input": "2022-02-14T19:59:06.458069Z",
     "iopub.status.busy": "2022-02-14T19:59:06.457271Z",
     "iopub.status.idle": "2022-02-14T19:59:06.475839Z",
     "shell.execute_reply": "2022-02-14T19:59:06.474660Z",
     "shell.execute_reply.started": "2022-02-14T19:54:41.480609Z"
    },
    "papermill": {
     "duration": 0.092815,
     "end_time": "2022-02-14T19:59:06.476364",
     "exception": false,
     "start_time": "2022-02-14T19:59:06.383549",
     "status": "completed"
    },
    "tags": []
   },
   "outputs": [
    {
     "data": {
      "text/plain": [
       "[('Street', 2),\n",
       " ('Utilities', 2),\n",
       " ('CentralAir', 2),\n",
       " ('LandSlope', 3),\n",
       " ('PavedDrive', 3),\n",
       " ('LotShape', 4),\n",
       " ('LandContour', 4),\n",
       " ('ExterQual', 4),\n",
       " ('KitchenQual', 4),\n",
       " ('MSZoning', 5),\n",
       " ('LotConfig', 5),\n",
       " ('BldgType', 5),\n",
       " ('ExterCond', 5),\n",
       " ('HeatingQC', 5),\n",
       " ('Condition2', 6),\n",
       " ('RoofStyle', 6),\n",
       " ('Foundation', 6),\n",
       " ('Heating', 6),\n",
       " ('Functional', 6),\n",
       " ('SaleCondition', 6),\n",
       " ('RoofMatl', 7),\n",
       " ('HouseStyle', 8),\n",
       " ('Condition1', 9),\n",
       " ('SaleType', 9),\n",
       " ('Exterior1st', 15),\n",
       " ('Exterior2nd', 16),\n",
       " ('Neighborhood', 25)]"
      ]
     },
     "execution_count": 15,
     "metadata": {},
     "output_type": "execute_result"
    }
   ],
   "source": [
    "# Get number of unique entries in each column with categorical data\n",
    "object_nunique = list(map(lambda col: X_train[col].nunique(), object_cols))\n",
    "d = dict(zip(object_cols, object_nunique))\n",
    "\n",
    "# Print number of unique entries by column, in ascending order\n",
    "sorted(d.items(), key=lambda x: x[1])"
   ]
  },
  {
   "cell_type": "code",
   "execution_count": null,
   "id": "baf7c733",
   "metadata": {
    "papermill": {
     "duration": 0.070896,
     "end_time": "2022-02-14T19:59:06.624143",
     "exception": false,
     "start_time": "2022-02-14T19:59:06.553247",
     "status": "completed"
    },
    "tags": []
   },
   "outputs": [],
   "source": []
  },
  {
   "cell_type": "code",
   "execution_count": null,
   "id": "44741279",
   "metadata": {
    "papermill": {
     "duration": 0.069699,
     "end_time": "2022-02-14T19:59:06.760809",
     "exception": false,
     "start_time": "2022-02-14T19:59:06.691110",
     "status": "completed"
    },
    "tags": []
   },
   "outputs": [],
   "source": []
  },
  {
   "cell_type": "markdown",
   "id": "271f56e9",
   "metadata": {
    "papermill": {
     "duration": 0.069323,
     "end_time": "2022-02-14T19:59:06.901008",
     "exception": false,
     "start_time": "2022-02-14T19:59:06.831685",
     "status": "completed"
    },
    "tags": []
   },
   "source": [
    "# Step 3: Investigating cardinality\n",
    "\n",
    "### Part A\n",
    "\n",
    "The output above shows, for each column with categorical data, the number of unique values in the column.  For instance, the `'Street'` column in the training data has two unique values: `'Grvl'` and `'Pave'`, corresponding to a gravel road and a paved road, respectively.\n",
    "\n",
    "We refer to the number of unique entries of a categorical variable as the **cardinality** of that categorical variable.  For instance, the `'Street'` variable has cardinality 2.\n",
    "\n",
    "Use the output above to answer the questions below."
   ]
  },
  {
   "cell_type": "code",
   "execution_count": 16,
   "id": "48f5b068",
   "metadata": {
    "execution": {
     "iopub.execute_input": "2022-02-14T19:59:07.041311Z",
     "iopub.status.busy": "2022-02-14T19:59:07.039793Z",
     "iopub.status.idle": "2022-02-14T19:59:07.052234Z",
     "shell.execute_reply": "2022-02-14T19:59:07.051732Z",
     "shell.execute_reply.started": "2022-02-14T19:54:50.208133Z"
    },
    "papermill": {
     "duration": 0.085214,
     "end_time": "2022-02-14T19:59:07.052364",
     "exception": false,
     "start_time": "2022-02-14T19:59:06.967150",
     "status": "completed"
    },
    "tags": []
   },
   "outputs": [
    {
     "data": {
      "text/plain": [
       "[('Street', 2),\n",
       " ('Utilities', 2),\n",
       " ('CentralAir', 2),\n",
       " ('LandSlope', 3),\n",
       " ('PavedDrive', 3),\n",
       " ('LotShape', 4),\n",
       " ('LandContour', 4),\n",
       " ('ExterQual', 4),\n",
       " ('KitchenQual', 4),\n",
       " ('MSZoning', 5),\n",
       " ('LotConfig', 5),\n",
       " ('BldgType', 5),\n",
       " ('ExterCond', 5),\n",
       " ('HeatingQC', 5),\n",
       " ('Condition2', 6),\n",
       " ('RoofStyle', 6),\n",
       " ('Foundation', 6),\n",
       " ('Heating', 6),\n",
       " ('Functional', 6),\n",
       " ('SaleCondition', 6),\n",
       " ('RoofMatl', 7),\n",
       " ('HouseStyle', 8),\n",
       " ('Condition1', 9),\n",
       " ('SaleType', 9),\n",
       " ('Exterior1st', 15),\n",
       " ('Exterior2nd', 16),\n",
       " ('Neighborhood', 25)]"
      ]
     },
     "execution_count": 16,
     "metadata": {},
     "output_type": "execute_result"
    }
   ],
   "source": [
    "# Get number of unique entries in each column with categorical data\n",
    "object_nunique = list(map(lambda col: X_train[col].nunique(), object_cols))\n",
    "d = dict(zip(object_cols, object_nunique))\n",
    "\n",
    "# Print number of unique entries by column, in ascending order\n",
    "sorted(d.items(), key=lambda x: x[1])"
   ]
  },
  {
   "cell_type": "code",
   "execution_count": null,
   "id": "0bad3572",
   "metadata": {
    "papermill": {
     "duration": 0.06184,
     "end_time": "2022-02-14T19:59:07.178434",
     "exception": false,
     "start_time": "2022-02-14T19:59:07.116594",
     "status": "completed"
    },
    "tags": []
   },
   "outputs": [],
   "source": []
  },
  {
   "cell_type": "code",
   "execution_count": null,
   "id": "5f7d8733",
   "metadata": {
    "papermill": {
     "duration": 0.061795,
     "end_time": "2022-02-14T19:59:07.304290",
     "exception": false,
     "start_time": "2022-02-14T19:59:07.242495",
     "status": "completed"
    },
    "tags": []
   },
   "outputs": [],
   "source": []
  },
  {
   "cell_type": "code",
   "execution_count": 17,
   "id": "1e594811",
   "metadata": {
    "execution": {
     "iopub.execute_input": "2022-02-14T19:59:07.434763Z",
     "iopub.status.busy": "2022-02-14T19:59:07.434207Z",
     "iopub.status.idle": "2022-02-14T19:59:07.437146Z",
     "shell.execute_reply": "2022-02-14T19:59:07.437538Z"
    },
    "papermill": {
     "duration": 0.068376,
     "end_time": "2022-02-14T19:59:07.437737",
     "exception": false,
     "start_time": "2022-02-14T19:59:07.369361",
     "status": "completed"
    },
    "tags": []
   },
   "outputs": [],
   "source": [
    "# Lines below will give you a hint or solution code\n",
    "#step_3.a.hint()\n",
    "#step_3.a.solution()"
   ]
  },
  {
   "cell_type": "markdown",
   "id": "63071421",
   "metadata": {
    "papermill": {
     "duration": 0.059512,
     "end_time": "2022-02-14T19:59:07.556991",
     "exception": false,
     "start_time": "2022-02-14T19:59:07.497479",
     "status": "completed"
    },
    "tags": []
   },
   "source": [
    "### Part B\n",
    "\n",
    "For large datasets with many rows, one-hot encoding can greatly expand the size of the dataset.  For this reason, we typically will only one-hot encode columns with relatively low cardinality.  Then, high cardinality columns can either be dropped from the dataset, or we can use ordinal encoding.\n",
    "\n",
    "As an example, consider a dataset with 10,000 rows, and containing one categorical column with 100 unique entries.  \n",
    "- If this column is replaced with the corresponding one-hot encoding, how many entries are added to the dataset?  \n",
    "- If we instead replace the column with the ordinal encoding, how many entries are added?  \n",
    "\n",
    "Use your answers to fill in the lines below."
   ]
  },
  {
   "cell_type": "code",
   "execution_count": 18,
   "id": "2f9b5efc",
   "metadata": {
    "execution": {
     "iopub.execute_input": "2022-02-14T19:59:07.683192Z",
     "iopub.status.busy": "2022-02-14T19:59:07.682621Z",
     "iopub.status.idle": "2022-02-14T19:59:07.690792Z",
     "shell.execute_reply": "2022-02-14T19:59:07.690205Z",
     "shell.execute_reply.started": "2022-02-14T19:54:59.308578Z"
    },
    "papermill": {
     "duration": 0.073118,
     "end_time": "2022-02-14T19:59:07.690920",
     "exception": false,
     "start_time": "2022-02-14T19:59:07.617802",
     "status": "completed"
    },
    "tags": []
   },
   "outputs": [
    {
     "data": {
      "application/javascript": [
       "parent.postMessage({\"jupyterEvent\": \"custom.exercise_interaction\", \"data\": {\"outcomeType\": 1, \"valueTowardsCompletion\": 0.5, \"interactionType\": 1, \"questionType\": 1, \"questionId\": \"3.1_CardinalityA\", \"learnToolsVersion\": \"0.3.4\", \"failureMessage\": \"\", \"exceptionClass\": \"\", \"trace\": \"\"}}, \"*\")"
      ],
      "text/plain": [
       "<IPython.core.display.Javascript object>"
      ]
     },
     "metadata": {},
     "output_type": "display_data"
    },
    {
     "data": {
      "text/markdown": [
       "<span style=\"color:#33cc33\">Correct</span>"
      ],
      "text/plain": [
       "Correct"
      ]
     },
     "metadata": {},
     "output_type": "display_data"
    }
   ],
   "source": [
    "# Fill in the line below: How many categorical variables in the training data\n",
    "# have cardinality greater than 10?\n",
    "high_cardinality_numcols = 3\n",
    "\n",
    "# Fill in the line below: How many columns are needed to one-hot encode the \n",
    "# 'Neighborhood' variable in the training data?\n",
    "num_cols_neighborhood = 25\n",
    "\n",
    "# Check your answers\n",
    "step_3.a.check()"
   ]
  },
  {
   "cell_type": "code",
   "execution_count": null,
   "id": "9f3e599c",
   "metadata": {
    "papermill": {
     "duration": 0.06709,
     "end_time": "2022-02-14T19:59:07.821497",
     "exception": false,
     "start_time": "2022-02-14T19:59:07.754407",
     "status": "completed"
    },
    "tags": []
   },
   "outputs": [],
   "source": []
  },
  {
   "cell_type": "code",
   "execution_count": null,
   "id": "1e299b6f",
   "metadata": {
    "papermill": {
     "duration": 0.062614,
     "end_time": "2022-02-14T19:59:07.948524",
     "exception": false,
     "start_time": "2022-02-14T19:59:07.885910",
     "status": "completed"
    },
    "tags": []
   },
   "outputs": [],
   "source": []
  },
  {
   "cell_type": "code",
   "execution_count": 19,
   "id": "29109508",
   "metadata": {
    "execution": {
     "iopub.execute_input": "2022-02-14T19:59:08.082329Z",
     "iopub.status.busy": "2022-02-14T19:59:08.081796Z",
     "iopub.status.idle": "2022-02-14T19:59:08.084933Z",
     "shell.execute_reply": "2022-02-14T19:59:08.085383Z"
    },
    "papermill": {
     "duration": 0.074392,
     "end_time": "2022-02-14T19:59:08.085550",
     "exception": false,
     "start_time": "2022-02-14T19:59:08.011158",
     "status": "completed"
    },
    "tags": []
   },
   "outputs": [],
   "source": [
    "# Lines below will give you a hint or solution code\n",
    "#step_3.b.hint()\n",
    "#step_3.b.solution()"
   ]
  },
  {
   "cell_type": "markdown",
   "id": "9a04e949",
   "metadata": {
    "papermill": {
     "duration": 0.064853,
     "end_time": "2022-02-14T19:59:08.214124",
     "exception": false,
     "start_time": "2022-02-14T19:59:08.149271",
     "status": "completed"
    },
    "tags": []
   },
   "source": [
    "Next, you'll experiment with one-hot encoding.  But, instead of encoding all of the categorical variables in the dataset, you'll only create a one-hot encoding for columns with cardinality less than 10.\n",
    "\n",
    "Run the code cell below without changes to set `low_cardinality_cols` to a Python list containing the columns that will be one-hot encoded.  Likewise, `high_cardinality_cols` contains a list of categorical columns that will be dropped from the dataset."
   ]
  },
  {
   "cell_type": "code",
   "execution_count": 20,
   "id": "175977b4",
   "metadata": {
    "execution": {
     "iopub.execute_input": "2022-02-14T19:59:08.358832Z",
     "iopub.status.busy": "2022-02-14T19:59:08.354241Z",
     "iopub.status.idle": "2022-02-14T19:59:08.372299Z",
     "shell.execute_reply": "2022-02-14T19:59:08.373565Z",
     "shell.execute_reply.started": "2022-02-14T19:55:07.946836Z"
    },
    "papermill": {
     "duration": 0.088208,
     "end_time": "2022-02-14T19:59:08.373902",
     "exception": false,
     "start_time": "2022-02-14T19:59:08.285694",
     "status": "completed"
    },
    "tags": []
   },
   "outputs": [
    {
     "name": "stdout",
     "output_type": "stream",
     "text": [
      "Categorical columns that will be one-hot encoded: ['MSZoning', 'Street', 'LotShape', 'LandContour', 'Utilities', 'LotConfig', 'LandSlope', 'Condition1', 'Condition2', 'BldgType', 'HouseStyle', 'RoofStyle', 'RoofMatl', 'ExterQual', 'ExterCond', 'Foundation', 'Heating', 'HeatingQC', 'CentralAir', 'KitchenQual', 'Functional', 'PavedDrive', 'SaleType', 'SaleCondition']\n",
      "\n",
      "Categorical columns that will be dropped from the dataset: ['Neighborhood', 'Exterior1st', 'Exterior2nd']\n"
     ]
    }
   ],
   "source": [
    "# Columns that will be one-hot encoded\n",
    "low_cardinality_cols = [col for col in object_cols if X_train[col].nunique() < 10]\n",
    "\n",
    "# Columns that will be dropped from the dataset\n",
    "high_cardinality_cols = list(set(object_cols)-set(low_cardinality_cols))\n",
    "\n",
    "print('Categorical columns that will be one-hot encoded:', low_cardinality_cols)\n",
    "print('\\nCategorical columns that will be dropped from the dataset:', high_cardinality_cols)"
   ]
  },
  {
   "cell_type": "code",
   "execution_count": null,
   "id": "1a7f6f21",
   "metadata": {
    "papermill": {
     "duration": 0.06398,
     "end_time": "2022-02-14T19:59:08.504165",
     "exception": false,
     "start_time": "2022-02-14T19:59:08.440185",
     "status": "completed"
    },
    "tags": []
   },
   "outputs": [],
   "source": []
  },
  {
   "cell_type": "code",
   "execution_count": null,
   "id": "04320313",
   "metadata": {
    "papermill": {
     "duration": 0.062632,
     "end_time": "2022-02-14T19:59:08.631142",
     "exception": false,
     "start_time": "2022-02-14T19:59:08.568510",
     "status": "completed"
    },
    "tags": []
   },
   "outputs": [],
   "source": []
  },
  {
   "cell_type": "markdown",
   "id": "ca14a908",
   "metadata": {
    "papermill": {
     "duration": 0.064114,
     "end_time": "2022-02-14T19:59:08.758692",
     "exception": false,
     "start_time": "2022-02-14T19:59:08.694578",
     "status": "completed"
    },
    "tags": []
   },
   "source": [
    "# Step 4: One-hot encoding\n",
    "\n",
    "Use the next code cell to one-hot encode the data in `X_train` and `X_valid`.  Set the preprocessed DataFrames to `OH_X_train` and `OH_X_valid`, respectively.  \n",
    "- The full list of categorical columns in the dataset can be found in the Python list `object_cols`.\n",
    "- You should only one-hot encode the categorical columns in `low_cardinality_cols`.  All other categorical columns should be dropped from the dataset. "
   ]
  },
  {
   "cell_type": "code",
   "execution_count": 21,
   "id": "6e22ec2e",
   "metadata": {
    "execution": {
     "iopub.execute_input": "2022-02-14T19:59:08.891766Z",
     "iopub.status.busy": "2022-02-14T19:59:08.891191Z",
     "iopub.status.idle": "2022-02-14T19:59:08.926865Z",
     "shell.execute_reply": "2022-02-14T19:59:08.927235Z",
     "shell.execute_reply.started": "2022-02-14T19:55:14.412641Z"
    },
    "papermill": {
     "duration": 0.104459,
     "end_time": "2022-02-14T19:59:08.927405",
     "exception": false,
     "start_time": "2022-02-14T19:59:08.822946",
     "status": "completed"
    },
    "tags": []
   },
   "outputs": [
    {
     "data": {
      "application/javascript": [
       "parent.postMessage({\"jupyterEvent\": \"custom.exercise_interaction\", \"data\": {\"outcomeType\": 1, \"valueTowardsCompletion\": 0.5, \"interactionType\": 1, \"questionType\": 2, \"questionId\": \"4_OneHot\", \"learnToolsVersion\": \"0.3.4\", \"failureMessage\": \"\", \"exceptionClass\": \"\", \"trace\": \"\"}}, \"*\")"
      ],
      "text/plain": [
       "<IPython.core.display.Javascript object>"
      ]
     },
     "metadata": {},
     "output_type": "display_data"
    },
    {
     "data": {
      "text/markdown": [
       "<span style=\"color:#33cc33\">Correct</span>"
      ],
      "text/plain": [
       "Correct"
      ]
     },
     "metadata": {},
     "output_type": "display_data"
    }
   ],
   "source": [
    "from sklearn.preprocessing import OneHotEncoder\n",
    "\n",
    "# Use as many lines of code as you need!\n",
    "OH_encoder = OneHotEncoder(handle_unknown='ignore', sparse=False)\n",
    "OH_cols_train = pd.DataFrame(OH_encoder.fit_transform(X_train[low_cardinality_cols]))\n",
    "OH_cols_valid = pd.DataFrame(OH_encoder.transform(X_valid[low_cardinality_cols]))\n",
    "\n",
    "# One-hot encoding removed index; put it back\n",
    "OH_cols_train.index = X_train.index\n",
    "OH_cols_valid.index = X_valid.index\n",
    "\n",
    "# Remove categorical columns (will replace with one-hot encoding)\n",
    "num_X_train = X_train.drop(object_cols, axis=1)\n",
    "num_X_valid = X_valid.drop(object_cols, axis=1)\n",
    "\n",
    "# Add one-hot encoded columns to numerical features\n",
    "OH_X_train = pd.concat([num_X_train, OH_cols_train], axis=1)\n",
    "OH_X_valid = pd.concat([num_X_valid, OH_cols_valid], axis=1)\n",
    "\n",
    "# Check your answer\n",
    "step_4.check()"
   ]
  },
  {
   "cell_type": "code",
   "execution_count": null,
   "id": "943438d3",
   "metadata": {
    "papermill": {
     "duration": 0.067521,
     "end_time": "2022-02-14T19:59:09.060352",
     "exception": false,
     "start_time": "2022-02-14T19:59:08.992831",
     "status": "completed"
    },
    "tags": []
   },
   "outputs": [],
   "source": []
  },
  {
   "cell_type": "code",
   "execution_count": null,
   "id": "2c8748cc",
   "metadata": {
    "papermill": {
     "duration": 0.068956,
     "end_time": "2022-02-14T19:59:09.199280",
     "exception": false,
     "start_time": "2022-02-14T19:59:09.130324",
     "status": "completed"
    },
    "tags": []
   },
   "outputs": [],
   "source": []
  },
  {
   "cell_type": "code",
   "execution_count": 22,
   "id": "349abd04",
   "metadata": {
    "execution": {
     "iopub.execute_input": "2022-02-14T19:59:09.347697Z",
     "iopub.status.busy": "2022-02-14T19:59:09.346960Z",
     "iopub.status.idle": "2022-02-14T19:59:09.350433Z",
     "shell.execute_reply": "2022-02-14T19:59:09.351089Z"
    },
    "papermill": {
     "duration": 0.083381,
     "end_time": "2022-02-14T19:59:09.351302",
     "exception": false,
     "start_time": "2022-02-14T19:59:09.267921",
     "status": "completed"
    },
    "tags": []
   },
   "outputs": [],
   "source": [
    "# Lines below will give you a hint or solution code\n",
    "#step_4.hint()\n",
    "#step_4.solution()"
   ]
  },
  {
   "cell_type": "markdown",
   "id": "2b760a9c",
   "metadata": {
    "papermill": {
     "duration": 0.108079,
     "end_time": "2022-02-14T19:59:09.568490",
     "exception": false,
     "start_time": "2022-02-14T19:59:09.460411",
     "status": "completed"
    },
    "tags": []
   },
   "source": [
    "Run the next code cell to get the MAE for this approach."
   ]
  },
  {
   "cell_type": "code",
   "execution_count": 23,
   "id": "bd8711d0",
   "metadata": {
    "execution": {
     "iopub.execute_input": "2022-02-14T19:59:09.788785Z",
     "iopub.status.busy": "2022-02-14T19:59:09.788034Z",
     "iopub.status.idle": "2022-02-14T19:59:11.769524Z",
     "shell.execute_reply": "2022-02-14T19:59:11.769043Z",
     "shell.execute_reply.started": "2022-02-14T19:55:21.675054Z"
    },
    "papermill": {
     "duration": 2.096783,
     "end_time": "2022-02-14T19:59:11.769677",
     "exception": false,
     "start_time": "2022-02-14T19:59:09.672894",
     "status": "completed"
    },
    "tags": []
   },
   "outputs": [
    {
     "name": "stdout",
     "output_type": "stream",
     "text": [
      "MAE from Approach 3 (One-Hot Encoding):\n",
      "17525.345719178084\n"
     ]
    }
   ],
   "source": [
    "print(\"MAE from Approach 3 (One-Hot Encoding):\") \n",
    "print(score_dataset(OH_X_train, OH_X_valid, y_train, y_valid))"
   ]
  },
  {
   "cell_type": "code",
   "execution_count": null,
   "id": "681ad8f2",
   "metadata": {
    "papermill": {
     "duration": 0.069902,
     "end_time": "2022-02-14T19:59:11.905411",
     "exception": false,
     "start_time": "2022-02-14T19:59:11.835509",
     "status": "completed"
    },
    "tags": []
   },
   "outputs": [],
   "source": []
  },
  {
   "cell_type": "code",
   "execution_count": null,
   "id": "eab706af",
   "metadata": {
    "papermill": {
     "duration": 0.06589,
     "end_time": "2022-02-14T19:59:12.040556",
     "exception": false,
     "start_time": "2022-02-14T19:59:11.974666",
     "status": "completed"
    },
    "tags": []
   },
   "outputs": [],
   "source": []
  },
  {
   "cell_type": "markdown",
   "id": "a969d273",
   "metadata": {
    "papermill": {
     "duration": 0.065356,
     "end_time": "2022-02-14T19:59:12.170797",
     "exception": false,
     "start_time": "2022-02-14T19:59:12.105441",
     "status": "completed"
    },
    "tags": []
   },
   "source": [
    "# Generate test predictions and submit your results\n",
    "\n",
    "After you complete Step 4, if you'd like to use what you've learned to submit your results to the leaderboard, you'll need to preprocess the test data before generating predictions.\n",
    "\n",
    "**This step is completely optional, and you do not need to submit results to the leaderboard to successfully complete the exercise.**\n",
    "\n",
    "Check out the previous exercise if you need help with remembering how to [join the competition](https://www.kaggle.com/c/home-data-for-ml-course) or save your results to CSV.  Once you have generated a file with your results, follow the instructions below:\n",
    "1. Begin by clicking on the **Save Version** button in the top right corner of the window.  This will generate a pop-up window.  \n",
    "2. Ensure that the **Save and Run All** option is selected, and then click on the **Save** button.\n",
    "3. This generates a window in the bottom left corner of the notebook.  After it has finished running, click on the number to the right of the **Save Version** button.  This pulls up a list of versions on the right of the screen.  Click on the ellipsis **(...)** to the right of the most recent version, and select **Open in Viewer**.  This brings you into view mode of the same page. You will need to scroll down to get back to these instructions.\n",
    "4. Click on the **Output** tab on the right of the screen.  Then, click on the file you would like to submit, and click on the **Submit** button to submit your results to the leaderboard.\n",
    "\n",
    "You have now successfully submitted to the competition!\n",
    "\n",
    "If you want to keep working to improve your performance, select the **Edit** button in the top right of the screen. Then you can change your code and repeat the process. There's a lot of room to improve, and you will climb up the leaderboard as you work.\n"
   ]
  },
  {
   "cell_type": "code",
   "execution_count": 24,
   "id": "143f1057",
   "metadata": {
    "execution": {
     "iopub.execute_input": "2022-02-14T19:59:12.305683Z",
     "iopub.status.busy": "2022-02-14T19:59:12.304977Z",
     "iopub.status.idle": "2022-02-14T19:59:15.801259Z",
     "shell.execute_reply": "2022-02-14T19:59:15.800773Z",
     "shell.execute_reply.started": "2022-02-14T19:57:44.486680Z"
    },
    "papermill": {
     "duration": 3.5632,
     "end_time": "2022-02-14T19:59:15.801373",
     "exception": false,
     "start_time": "2022-02-14T19:59:12.238173",
     "status": "completed"
    },
    "tags": []
   },
   "outputs": [
    {
     "name": "stdout",
     "output_type": "stream",
     "text": [
      "Categorical columns that will be label encoded: ['Street', 'LotShape', 'LandContour', 'LotConfig', 'LandSlope', 'Neighborhood', 'Condition1', 'Condition2', 'BldgType', 'HouseStyle', 'RoofStyle', 'RoofMatl', 'ExterQual', 'ExterCond', 'Foundation', 'Heating', 'HeatingQC', 'CentralAir', 'PavedDrive', 'SaleCondition']\n",
      "\n",
      "Categorical columns that will be dropped from the dataset: ['Functional', 'MSZoning', 'Exterior2nd', 'Utilities', 'SaleType', 'KitchenQual', 'Exterior1st']\n"
     ]
    }
   ],
   "source": [
    "# (Optional) Your code here\n",
    "X_test.fillna(0, inplace=True)\n",
    "\n",
    "# All categorical columns\n",
    "object_cols = [col for col in X.columns if X[col].dtype == \"object\"]\n",
    "\n",
    "# Columns that can be safely label encoded\n",
    "good_label_cols = [col for col in object_cols if \n",
    "                   set(X_test[col]).issubset(set(X[col]))]\n",
    "        \n",
    "# Problematic columns that will be dropped from the dataset\n",
    "bad_label_cols = list(set(object_cols)-set(good_label_cols))\n",
    "        \n",
    "print('Categorical columns that will be label encoded:', good_label_cols)\n",
    "print('\\nCategorical columns that will be dropped from the dataset:', bad_label_cols)\n",
    "\n",
    "# Drop categorical columns that will not be encoded\n",
    "label_X = X.drop(bad_label_cols, axis=1)\n",
    "label_X_test = X_test.drop(bad_label_cols, axis=1)\n",
    "\n",
    "# Apply label encoder \n",
    "# Your code here\n",
    "labelEncoder = LabelEncoder()\n",
    "for col in good_label_cols:\n",
    "    label_X[col] = labelEncoder.fit_transform(X[col])\n",
    "    label_X_test[col] = labelEncoder.transform(X_test[col])\n",
    "\n",
    "# Model with 200 estimators, MAE: 15923.57616\n",
    "model = RandomForestRegressor(n_estimators=200, random_state=0)\n",
    "model.fit(label_X, y)\n",
    "\n",
    "# Get test predictions \n",
    "preds_test = model.predict(label_X_test)\n",
    "\n",
    "# Save test predictions to file\n",
    "output = pd.DataFrame({'Id': label_X_test.index,\n",
    "                       'SalePrice': preds_test})\n",
    "output.to_csv('submission.csv', index=False)"
   ]
  },
  {
   "cell_type": "code",
   "execution_count": null,
   "id": "9fe6b99c",
   "metadata": {
    "papermill": {
     "duration": 0.063682,
     "end_time": "2022-02-14T19:59:15.930010",
     "exception": false,
     "start_time": "2022-02-14T19:59:15.866328",
     "status": "completed"
    },
    "tags": []
   },
   "outputs": [],
   "source": []
  },
  {
   "cell_type": "markdown",
   "id": "287c9bca",
   "metadata": {
    "papermill": {
     "duration": 0.066255,
     "end_time": "2022-02-14T19:59:16.060942",
     "exception": false,
     "start_time": "2022-02-14T19:59:15.994687",
     "status": "completed"
    },
    "tags": []
   },
   "source": [
    "# Keep going\n",
    "\n",
    "With missing value handling and categorical encoding, your modeling process is getting complex. This complexity gets worse when you want to save your model to use in the future. The key to managing this complexity is something called **pipelines**. \n",
    "\n",
    "**[Learn to use pipelines](https://www.kaggle.com/alexisbcook/pipelines)** to preprocess datasets with categorical variables, missing values and any other messiness your data throws at you."
   ]
  },
  {
   "cell_type": "markdown",
   "id": "6cd4f715",
   "metadata": {
    "papermill": {
     "duration": 0.063959,
     "end_time": "2022-02-14T19:59:16.190192",
     "exception": false,
     "start_time": "2022-02-14T19:59:16.126233",
     "status": "completed"
    },
    "tags": []
   },
   "source": [
    "---\n",
    "\n",
    "\n",
    "\n",
    "\n",
    "*Have questions or comments? Visit the [course discussion forum](https://www.kaggle.com/learn/intermediate-machine-learning/discussion) to chat with other learners.*"
   ]
  }
 ],
 "metadata": {
  "kernelspec": {
   "display_name": "Python 3",
   "language": "python",
   "name": "python3"
  },
  "language_info": {
   "codemirror_mode": {
    "name": "ipython",
    "version": 3
   },
   "file_extension": ".py",
   "mimetype": "text/x-python",
   "name": "python",
   "nbconvert_exporter": "python",
   "pygments_lexer": "ipython3",
   "version": "3.7.12"
  },
  "papermill": {
   "default_parameters": {},
   "duration": 33.760625,
   "end_time": "2022-02-14T19:59:17.169675",
   "environment_variables": {},
   "exception": null,
   "input_path": "__notebook__.ipynb",
   "output_path": "__notebook__.ipynb",
   "parameters": {},
   "start_time": "2022-02-14T19:58:43.409050",
   "version": "2.3.3"
  }
 },
 "nbformat": 4,
 "nbformat_minor": 5
}
